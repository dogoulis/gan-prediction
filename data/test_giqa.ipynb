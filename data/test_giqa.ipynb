{
 "cells": [
  {
   "cell_type": "code",
   "execution_count": 46,
   "metadata": {},
   "outputs": [],
   "source": [
    "import pandas as pd\n",
    "from pathlib import Path\n",
    "import os"
   ]
  },
  {
   "cell_type": "code",
   "execution_count": 47,
   "metadata": {},
   "outputs": [],
   "source": [
    "def path_join(df):\n",
    "    for i in range(len(df)):\n",
    "        part = Path(df.image_path[i]).parts\n",
    "        new = os.path.join(part[-2], part[-1])\n",
    "        df.image_path[i] = new\n",
    "    return df"
   ]
  },
  {
   "cell_type": "code",
   "execution_count": 41,
   "metadata": {},
   "outputs": [],
   "source": [
    "test_giqa = pd.read_csv('test_giqa.csv')\n",
    "holdout = pd.read_csv('holdout.csv')"
   ]
  },
  {
   "cell_type": "code",
   "execution_count": 42,
   "metadata": {},
   "outputs": [],
   "source": [
    "test_real = holdout[holdout['label']==0]"
   ]
  },
  {
   "cell_type": "code",
   "execution_count": 43,
   "metadata": {},
   "outputs": [],
   "source": [
    "x_real = test_real\n",
    "x_fake_first_5k = test_giqa.loc[:4999, :]"
   ]
  },
  {
   "cell_type": "code",
   "execution_count": 44,
   "metadata": {},
   "outputs": [
    {
     "name": "stdout",
     "output_type": "stream",
     "text": [
      "<class 'pandas.core.frame.DataFrame'>\n",
      "Int64Index: 10000 entries, 7522 to 8763\n",
      "Data columns (total 3 columns):\n",
      " #   Column      Non-Null Count  Dtype \n",
      "---  ------      --------------  ----- \n",
      " 0   Unnamed: 0  10000 non-null  int64 \n",
      " 1   image_path  10000 non-null  object\n",
      " 2   label       10000 non-null  int64 \n",
      "dtypes: int64(2), object(1)\n",
      "memory usage: 312.5+ KB\n"
     ]
    }
   ],
   "source": [
    "test_first_5k = pd.concat((test_real, x_fake_first_5k), axis=0, ignore_index=True)\n",
    "test_first_5k[\"label\"] = test_first_5k[\"label\"].astype(int)\n",
    "test_first_5k = test_first_5k.sample(frac=1)\n",
    "\n",
    "test_first_5k.info()"
   ]
  },
  {
   "cell_type": "code",
   "execution_count": 48,
   "metadata": {},
   "outputs": [
    {
     "name": "stderr",
     "output_type": "stream",
     "text": [
      "/tmp/ipykernel_1501879/765425069.py:5: SettingWithCopyWarning: \n",
      "A value is trying to be set on a copy of a slice from a DataFrame\n",
      "\n",
      "See the caveats in the documentation: https://pandas.pydata.org/pandas-docs/stable/user_guide/indexing.html#returning-a-view-versus-a-copy\n",
      "  df.image_path[i] = new\n"
     ]
    }
   ],
   "source": [
    "test_first_5k = path_join(test_first_5k)"
   ]
  },
  {
   "cell_type": "code",
   "execution_count": 50,
   "metadata": {},
   "outputs": [],
   "source": [
    "test_first_5k.to_csv('test_first_5k.csv')"
   ]
  },
  {
   "cell_type": "code",
   "execution_count": 18,
   "metadata": {},
   "outputs": [],
   "source": [
    "x_fake_last_5k = test_giqa.loc[5000:,:]"
   ]
  },
  {
   "cell_type": "code",
   "execution_count": 19,
   "metadata": {},
   "outputs": [
    {
     "name": "stdout",
     "output_type": "stream",
     "text": [
      "<class 'pandas.core.frame.DataFrame'>\n",
      "Int64Index: 10000 entries, 8315 to 3684\n",
      "Data columns (total 3 columns):\n",
      " #   Column      Non-Null Count  Dtype \n",
      "---  ------      --------------  ----- \n",
      " 0   Unnamed: 0  10000 non-null  int64 \n",
      " 1   image_path  10000 non-null  object\n",
      " 2   label       10000 non-null  int64 \n",
      "dtypes: int64(2), object(1)\n",
      "memory usage: 312.5+ KB\n"
     ]
    }
   ],
   "source": [
    "test_last_5k = pd.concat((test_real, x_fake_last_5k), axis=0, ignore_index=True)\n",
    "test_last_5k[\"label\"] = test_last_5k[\"label\"].astype(int)\n",
    "test_last_5k = test_last_5k.sample(frac=1)\n",
    "\n",
    "test_last_5k.info()"
   ]
  },
  {
   "cell_type": "code",
   "execution_count": 51,
   "metadata": {},
   "outputs": [
    {
     "name": "stderr",
     "output_type": "stream",
     "text": [
      "/tmp/ipykernel_1501879/765425069.py:5: SettingWithCopyWarning: \n",
      "A value is trying to be set on a copy of a slice from a DataFrame\n",
      "\n",
      "See the caveats in the documentation: https://pandas.pydata.org/pandas-docs/stable/user_guide/indexing.html#returning-a-view-versus-a-copy\n",
      "  df.image_path[i] = new\n"
     ]
    }
   ],
   "source": [
    "test_last_5k = path_join(test_last_5k)"
   ]
  },
  {
   "cell_type": "code",
   "execution_count": 52,
   "metadata": {},
   "outputs": [],
   "source": [
    "test_last_5k.to_csv('test_last_5k.csv')"
   ]
  },
  {
   "cell_type": "markdown",
   "metadata": {},
   "source": [
    "# selecting 2k "
   ]
  },
  {
   "cell_type": "code",
   "execution_count": 22,
   "metadata": {},
   "outputs": [],
   "source": [
    "x_fake_first_2k = test_giqa.loc[:1999, :]\n",
    "x_real_2k = test_real.sample(n=2000)"
   ]
  },
  {
   "cell_type": "code",
   "execution_count": 23,
   "metadata": {},
   "outputs": [
    {
     "name": "stdout",
     "output_type": "stream",
     "text": [
      "<class 'pandas.core.frame.DataFrame'>\n",
      "Int64Index: 4000 entries, 1206 to 2014\n",
      "Data columns (total 3 columns):\n",
      " #   Column      Non-Null Count  Dtype \n",
      "---  ------      --------------  ----- \n",
      " 0   Unnamed: 0  4000 non-null   int64 \n",
      " 1   image_path  4000 non-null   object\n",
      " 2   label       4000 non-null   int64 \n",
      "dtypes: int64(2), object(1)\n",
      "memory usage: 125.0+ KB\n"
     ]
    }
   ],
   "source": [
    "test_first_2k = pd.concat((x_real_2k, x_fake_first_2k), axis=0, ignore_index=True)\n",
    "test_first_2k[\"label\"] = test_first_2k[\"label\"].astype(int)\n",
    "test_first_2k = test_first_2k.sample(frac=1)\n",
    "\n",
    "test_first_2k.info()"
   ]
  },
  {
   "cell_type": "code",
   "execution_count": 53,
   "metadata": {},
   "outputs": [
    {
     "name": "stderr",
     "output_type": "stream",
     "text": [
      "/tmp/ipykernel_1501879/765425069.py:5: SettingWithCopyWarning: \n",
      "A value is trying to be set on a copy of a slice from a DataFrame\n",
      "\n",
      "See the caveats in the documentation: https://pandas.pydata.org/pandas-docs/stable/user_guide/indexing.html#returning-a-view-versus-a-copy\n",
      "  df.image_path[i] = new\n"
     ]
    }
   ],
   "source": [
    "test_first_2k = path_join(test_first_2k)"
   ]
  },
  {
   "cell_type": "code",
   "execution_count": 54,
   "metadata": {},
   "outputs": [],
   "source": [
    "test_first_2k.to_csv('test_first_2k.csv')"
   ]
  },
  {
   "cell_type": "code",
   "execution_count": 33,
   "metadata": {},
   "outputs": [],
   "source": [
    "x_fake_last_2k = test_giqa.iloc[-2000:]"
   ]
  },
  {
   "cell_type": "code",
   "execution_count": 36,
   "metadata": {},
   "outputs": [
    {
     "data": {
      "text/html": [
       "<div>\n",
       "<style scoped>\n",
       "    .dataframe tbody tr th:only-of-type {\n",
       "        vertical-align: middle;\n",
       "    }\n",
       "\n",
       "    .dataframe tbody tr th {\n",
       "        vertical-align: top;\n",
       "    }\n",
       "\n",
       "    .dataframe thead th {\n",
       "        text-align: right;\n",
       "    }\n",
       "</style>\n",
       "<table border=\"1\" class=\"dataframe\">\n",
       "  <thead>\n",
       "    <tr style=\"text-align: right;\">\n",
       "      <th></th>\n",
       "      <th>Unnamed: 0</th>\n",
       "      <th>image_path</th>\n",
       "      <th>label</th>\n",
       "    </tr>\n",
       "  </thead>\n",
       "  <tbody>\n",
       "    <tr>\n",
       "      <th>1206</th>\n",
       "      <td>436</td>\n",
       "      <td>ffhq1024/17347.png</td>\n",
       "      <td>0</td>\n",
       "    </tr>\n",
       "    <tr>\n",
       "      <th>1834</th>\n",
       "      <td>2036</td>\n",
       "      <td>ffhq1024/39644.png</td>\n",
       "      <td>0</td>\n",
       "    </tr>\n",
       "    <tr>\n",
       "      <th>3170</th>\n",
       "      <td>1170</td>\n",
       "      <td>/fssd1/user-data/dogoulis/test_stylegan2/51945...</td>\n",
       "      <td>1</td>\n",
       "    </tr>\n",
       "    <tr>\n",
       "      <th>1469</th>\n",
       "      <td>2949</td>\n",
       "      <td>ffhq1024/68832.png</td>\n",
       "      <td>0</td>\n",
       "    </tr>\n",
       "    <tr>\n",
       "      <th>2475</th>\n",
       "      <td>475</td>\n",
       "      <td>/fssd1/user-data/dogoulis/test_stylegan2/96363...</td>\n",
       "      <td>1</td>\n",
       "    </tr>\n",
       "    <tr>\n",
       "      <th>...</th>\n",
       "      <td>...</td>\n",
       "      <td>...</td>\n",
       "      <td>...</td>\n",
       "    </tr>\n",
       "    <tr>\n",
       "      <th>1045</th>\n",
       "      <td>1142</td>\n",
       "      <td>ffhq1024/41972.png</td>\n",
       "      <td>0</td>\n",
       "    </tr>\n",
       "    <tr>\n",
       "      <th>3056</th>\n",
       "      <td>1056</td>\n",
       "      <td>/fssd1/user-data/dogoulis/test_stylegan2/11011...</td>\n",
       "      <td>1</td>\n",
       "    </tr>\n",
       "    <tr>\n",
       "      <th>591</th>\n",
       "      <td>3581</td>\n",
       "      <td>ffhq1024/43905.png</td>\n",
       "      <td>0</td>\n",
       "    </tr>\n",
       "    <tr>\n",
       "      <th>2053</th>\n",
       "      <td>53</td>\n",
       "      <td>/fssd1/user-data/dogoulis/test_stylegan2/90931...</td>\n",
       "      <td>1</td>\n",
       "    </tr>\n",
       "    <tr>\n",
       "      <th>2014</th>\n",
       "      <td>14</td>\n",
       "      <td>/fssd1/user-data/dogoulis/test_stylegan2/76195...</td>\n",
       "      <td>1</td>\n",
       "    </tr>\n",
       "  </tbody>\n",
       "</table>\n",
       "<p>4000 rows × 3 columns</p>\n",
       "</div>"
      ],
      "text/plain": [
       "      Unnamed: 0                                         image_path  label\n",
       "1206         436                                 ffhq1024/17347.png      0\n",
       "1834        2036                                 ffhq1024/39644.png      0\n",
       "3170        1170  /fssd1/user-data/dogoulis/test_stylegan2/51945...      1\n",
       "1469        2949                                 ffhq1024/68832.png      0\n",
       "2475         475  /fssd1/user-data/dogoulis/test_stylegan2/96363...      1\n",
       "...          ...                                                ...    ...\n",
       "1045        1142                                 ffhq1024/41972.png      0\n",
       "3056        1056  /fssd1/user-data/dogoulis/test_stylegan2/11011...      1\n",
       "591         3581                                 ffhq1024/43905.png      0\n",
       "2053          53  /fssd1/user-data/dogoulis/test_stylegan2/90931...      1\n",
       "2014          14  /fssd1/user-data/dogoulis/test_stylegan2/76195...      1\n",
       "\n",
       "[4000 rows x 3 columns]"
      ]
     },
     "execution_count": 36,
     "metadata": {},
     "output_type": "execute_result"
    }
   ],
   "source": [
    "test_first_2k"
   ]
  },
  {
   "cell_type": "code",
   "execution_count": 37,
   "metadata": {},
   "outputs": [
    {
     "name": "stdout",
     "output_type": "stream",
     "text": [
      "<class 'pandas.core.frame.DataFrame'>\n",
      "Int64Index: 4000 entries, 2943 to 799\n",
      "Data columns (total 3 columns):\n",
      " #   Column      Non-Null Count  Dtype \n",
      "---  ------      --------------  ----- \n",
      " 0   Unnamed: 0  4000 non-null   int64 \n",
      " 1   image_path  4000 non-null   object\n",
      " 2   label       4000 non-null   int64 \n",
      "dtypes: int64(2), object(1)\n",
      "memory usage: 125.0+ KB\n"
     ]
    }
   ],
   "source": [
    "test_last_2k = pd.concat((x_real_2k, x_fake_last_2k), axis=0, ignore_index=True)\n",
    "test_last_2k[\"label\"] = test_last_2k[\"label\"].astype(int)\n",
    "test_last_2k = test_last_2k.sample(frac=1)\n",
    "\n",
    "test_last_2k.info()"
   ]
  },
  {
   "cell_type": "code",
   "execution_count": 55,
   "metadata": {},
   "outputs": [
    {
     "name": "stderr",
     "output_type": "stream",
     "text": [
      "/tmp/ipykernel_1501879/765425069.py:5: SettingWithCopyWarning: \n",
      "A value is trying to be set on a copy of a slice from a DataFrame\n",
      "\n",
      "See the caveats in the documentation: https://pandas.pydata.org/pandas-docs/stable/user_guide/indexing.html#returning-a-view-versus-a-copy\n",
      "  df.image_path[i] = new\n"
     ]
    }
   ],
   "source": [
    "test_last_2k = path_join(test_last_2k)"
   ]
  },
  {
   "cell_type": "code",
   "execution_count": 56,
   "metadata": {},
   "outputs": [],
   "source": [
    "test_last_2k.to_csv('test_last_2k.csv')"
   ]
  }
 ],
 "metadata": {
  "interpreter": {
   "hash": "c484466a2c987cd934b325b83ad73258f5fdfddfb24d64a2de0d03a87ac6d667"
  },
  "kernelspec": {
   "display_name": "Python 3.8.8 ('base')",
   "language": "python",
   "name": "python3"
  },
  "language_info": {
   "codemirror_mode": {
    "name": "ipython",
    "version": 3
   },
   "file_extension": ".py",
   "mimetype": "text/x-python",
   "name": "python",
   "nbconvert_exporter": "python",
   "pygments_lexer": "ipython3",
   "version": "3.8.8"
  },
  "orig_nbformat": 4
 },
 "nbformat": 4,
 "nbformat_minor": 2
}
