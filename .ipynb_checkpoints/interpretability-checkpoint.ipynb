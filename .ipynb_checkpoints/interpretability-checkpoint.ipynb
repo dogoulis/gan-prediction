{
 "cells": [
  {
   "cell_type": "markdown",
   "id": "fc86af41-8ca3-478f-9ad9-5dcddb60dfa6",
   "metadata": {},
   "source": [
    "This nb is used in order to visualize and interpret the decision that our nn makes when predicting the class of an image. It uses the integrated gradients method and visualize the results. "
   ]
  },
  {
   "cell_type": "code",
   "execution_count": 2,
   "id": "8ff3f479-c3d9-4057-b925-3291f18d15f0",
   "metadata": {},
   "outputs": [],
   "source": [
    "#imports:\n",
    "\n",
    "import torch\n",
    "import torch.nn.functional as F\n",
    "\n",
    "from PIL import Image\n",
    "\n",
    "import os\n",
    "import json\n",
    "import numpy as np\n",
    "from matplotlib.colors import LinearSegmentedColormap\n",
    "\n",
    "import timm\n",
    "from torchvision import transforms\n",
    "\n",
    "from captum.attr import IntegratedGradients\n",
    "from captum.attr import GradientShap\n",
    "from captum.attr import Occlusion\n",
    "from captum.attr import NoiseTunnel\n",
    "from captum.attr import visualization as viz"
   ]
  },
  {
   "cell_type": "code",
   "execution_count": null,
   "id": "f8dc9b89-2116-4419-bb3f-3fa99efe746f",
   "metadata": {},
   "outputs": [],
   "source": [
    "# loading the model:\n",
    "\n",
    "\n",
    "model = resnet50()\n",
    "\n",
    "# load weights:\n",
    "\n",
    "model.load_state_dict(torch.load('/home/dogoulis/WORKSPACE/gan-prediction/checkpoints/epoch-0.pt'))"
   ]
  }
 ],
 "metadata": {
  "kernelspec": {
   "display_name": "Python 3 (ipykernel)",
   "language": "python",
   "name": "python3"
  },
  "language_info": {
   "codemirror_mode": {
    "name": "ipython",
    "version": 3
   },
   "file_extension": ".py",
   "mimetype": "text/x-python",
   "name": "python",
   "nbconvert_exporter": "python",
   "pygments_lexer": "ipython3",
   "version": "3.8.8"
  }
 },
 "nbformat": 4,
 "nbformat_minor": 5
}
